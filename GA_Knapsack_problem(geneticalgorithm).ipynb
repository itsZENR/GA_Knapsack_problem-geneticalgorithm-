{
  "nbformat": 4,
  "nbformat_minor": 0,
  "metadata": {
    "colab": {
      "provenance": [],
      "authorship_tag": "ABX9TyOOzVAa8a8gN1IQjfxxg55O",
      "include_colab_link": true
    },
    "kernelspec": {
      "name": "python3",
      "display_name": "Python 3"
    },
    "language_info": {
      "name": "python"
    }
  },
  "cells": [
    {
      "cell_type": "markdown",
      "metadata": {
        "id": "view-in-github",
        "colab_type": "text"
      },
      "source": [
        "<a href=\"https://colab.research.google.com/github/itsZENR/GA_Knapsack_problem-geneticalgorithm-/blob/main/GA_Knapsack_problem(geneticalgorithm).ipynb\" target=\"_parent\"><img src=\"https://colab.research.google.com/assets/colab-badge.svg\" alt=\"Open In Colab\"/></a>"
      ]
    },
    {
      "cell_type": "code",
      "source": [
        "#@title Загрузка библиотеки\n",
        "!pip install geneticalgorithm"
      ],
      "metadata": {
        "colab": {
          "base_uri": "https://localhost:8080/"
        },
        "id": "dJFo9F7lYQ9I",
        "outputId": "5f76eab9-63a0-49e8-f9fd-24a6d60030fe"
      },
      "execution_count": 1,
      "outputs": [
        {
          "output_type": "stream",
          "name": "stdout",
          "text": [
            "Looking in indexes: https://pypi.org/simple, https://us-python.pkg.dev/colab-wheels/public/simple/\n",
            "Collecting geneticalgorithm\n",
            "  Downloading geneticalgorithm-1.0.2-py3-none-any.whl (16 kB)\n",
            "Requirement already satisfied: numpy in /usr/local/lib/python3.9/dist-packages (from geneticalgorithm) (1.22.4)\n",
            "Collecting func-timeout\n",
            "  Downloading func_timeout-4.3.5.tar.gz (44 kB)\n",
            "\u001b[2K     \u001b[90m━━━━━━━━━━━━━━━━━━━━━━━━━━━━━━━━━━━━━━━━\u001b[0m \u001b[32m44.3/44.3 KB\u001b[0m \u001b[31m2.6 MB/s\u001b[0m eta \u001b[36m0:00:00\u001b[0m\n",
            "\u001b[?25h  Preparing metadata (setup.py) ... \u001b[?25l\u001b[?25hdone\n",
            "Building wheels for collected packages: func-timeout\n",
            "  Building wheel for func-timeout (setup.py) ... \u001b[?25l\u001b[?25hdone\n",
            "  Created wheel for func-timeout: filename=func_timeout-4.3.5-py3-none-any.whl size=15094 sha256=186921418545a9447913146ad06f24f771da067ba7d66f59fb690185d6a9c2c8\n",
            "  Stored in directory: /root/.cache/pip/wheels/ef/91/3f/17cbea1e83d17cc01bd2d66a0d59e65301bcb2d59f2f6a62ab\n",
            "Successfully built func-timeout\n",
            "Installing collected packages: func-timeout, geneticalgorithm\n",
            "Successfully installed func-timeout-4.3.5 geneticalgorithm-1.0.2\n"
          ]
        }
      ]
    },
    {
      "cell_type": "code",
      "source": [
        "#@title Функция задачи о рюкзачке\n",
        "#@markdown Необходимо максимизировать $\\displaystyle\\sum^{n}_{i=2}c_ix_i$ \\\\\n",
        "#@markdown С ограничениями $\\displaystyle\\sum^{n}_{i=2}w_ix_i \\leq W$ и $x_i \\in \\{0,1\\}$\n",
        "\n",
        "def decode1(x):\n",
        "  n = 20 # Количество пунктов\n",
        "  w = [2,5,18,3,2,5,10,4,8,12,5,10,7,15,11,2,8,10,5,9] # Весовой список каждого элемента\n",
        "  c = [5,10,12,4,3,11,13,10,7,15,8,19,1,17,12,9,15,20,2,6] # Список цен на каждый товар\n",
        "  #@markdown Объем рюкзака:\n",
        "  W = 40 #@param {type:\"slider\", min:0, max:100, step:1}\n",
        "  \n",
        "  s=[]# Сохранить коллекцию нижних индексов выбранного объекта\n",
        "  g=0\n",
        "  f=0\n",
        "  for i in range(n):\n",
        "    if x[i] == 1:\n",
        "        if g+w[i] <= W:\n",
        "            g = g+w[i]\n",
        "            f = f+c[i]\n",
        "            s.append(i)\n",
        "        else:\n",
        "            f = -100000000\n",
        "            break\n",
        "  return f,s"
      ],
      "metadata": {
        "id": "m8ReanFbhlQb"
      },
      "execution_count": 2,
      "outputs": []
    },
    {
      "cell_type": "code",
      "source": [
        "#@title Ну это уже перебор\n",
        "k = 20\n",
        "max = 0\n",
        "max_a = []\n",
        "\n",
        "def check(a):\n",
        "    global max\n",
        "    global max_a\n",
        "    f,s = decode1(a)\n",
        "    if f > max:\n",
        "      max = f\n",
        "      max_a = s\n",
        "    \n",
        "\n",
        "def find(i):\n",
        "    if i == k:\n",
        "        check(a)\n",
        "        return\n",
        "    a[i] = 0\n",
        "    find(i + 1)\n",
        "    a[i] = 1\n",
        "    find(i + 1)\n",
        "\n",
        "\n",
        "a = [None] * k\n",
        "find(0)\n",
        "print(\"Максимальная стоимость содержимого рюкзака:\", max)\n",
        "print(\"Номера предметов которые надо взять\", max_a)"
      ],
      "metadata": {
        "colab": {
          "base_uri": "https://localhost:8080/"
        },
        "id": "m2yfitiM9PuK",
        "outputId": "75daf3c0-7286-41ce-9462-a50c8714474b"
      },
      "execution_count": 3,
      "outputs": [
        {
          "output_type": "stream",
          "name": "stdout",
          "text": [
            "Максимальная стоимость содержимого рюкзака: 87\n",
            "номера предметов которые надо взять [0, 1, 4, 5, 7, 11, 15, 17]\n"
          ]
        }
      ]
    },
    {
      "cell_type": "code",
      "source": [
        "#@title Генетический алгоритм\n",
        "\n",
        "import numpy as np\n",
        "from geneticalgorithm import geneticalgorithm as ga\n",
        "\n",
        "\n",
        "n = 20\n",
        "#@markdown Размер популяции\n",
        "max_num_iteration = 100 #@param {type:\"integer\"}\n",
        "#@markdown Процент элитного населения\n",
        "elit_ratio = 1 #@param {type:\"slider\", min:0, max:100, step:1}\n",
        "\n",
        "\n",
        "\n",
        "\n",
        "\n",
        "\n",
        "def f(x):\n",
        "    return -decode1(x)[0]\n",
        "\n",
        "varbound=np.array([[0,1]]*n)\n",
        "\n",
        "algorithm_param = {'max_num_iteration': 3000,\\\n",
        "                   'population_size':max_num_iteration,\\\n",
        "                   'mutation_probability':0.1,\\\n",
        "                   'elit_ratio': (elit_ratio/100),\\\n",
        "                   'crossover_probability': 0.5,\\\n",
        "                   'parents_portion': 0.3,\\\n",
        "                   'crossover_type':'uniform',\\\n",
        "                   'max_iteration_without_improv':None}\n",
        "\n",
        "model=ga(function = f,\\\n",
        "            dimension=n,\\\n",
        "            variable_type='int',\\\n",
        "            variable_boundaries=varbound,\\\n",
        "            algorithm_parameters=algorithm_param)\n",
        "\n",
        "model.run()"
      ],
      "metadata": {
        "colab": {
          "base_uri": "https://localhost:8080/",
          "height": 385
        },
        "id": "Tt0xt8VrYLnE",
        "outputId": "54220a4a-7b21-4095-9a41-f5276ff8195f"
      },
      "execution_count": null,
      "outputs": [
        {
          "output_type": "stream",
          "name": "stdout",
          "text": [
            " The best solution found:\n",
            " [1. 1. 0. 0. 1. 1. 0. 1. 0. 0. 0. 1. 0. 0. 0. 1. 0. 1. 0. 0.]\n",
            "\n",
            " Objective function:\n",
            " -87.0\n"
          ]
        },
        {
          "output_type": "display_data",
          "data": {
            "image/png": "[encoded data removed]",
            "text/plain": [
              "<Figure size 432x288 with 1 Axes>"
            ]
          },
          "metadata": {
            "needs_background": "light"
          }
        }
      ]
    }
  ]
}